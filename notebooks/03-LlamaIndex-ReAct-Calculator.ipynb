{
 "cells": [
  {
   "cell_type": "markdown",
   "id": "f22ca737-12ed-4f2b-bc3c-bbe5608e7594",
   "metadata": {},
   "source": [
    "# LlamaIndex ReAct Agent\n",
    "\n",
    "1. ReAct Agent using simple calculator tools.\n",
    "2. ReAct Agent using QueryEngine (RAG) tools.\n",
    "\n",
    "https://docs.llamaindex.ai/en/stable/examples/agent/react_agent/"
   ]
  },
  {
   "cell_type": "markdown",
   "id": "b91c17e0-e83d-4b69-b2d2-06b33eba59c3",
   "metadata": {},
   "source": [
    "## Baseline"
   ]
  },
  {
   "cell_type": "code",
   "execution_count": 1,
   "id": "e2874cdc-ecbc-4498-900b-acd1a64e36d2",
   "metadata": {},
   "outputs": [
    {
     "data": {
      "text/plain": [
       "CompletionResponse(text='20 + (2*4) = 20 + 8 = 28', additional_kwargs={}, raw={'id': 'chatcmpl-9jhiMmE1DPmDMBZA3lYYYMxgQZvDf', 'choices': [Choice(finish_reason='stop', index=0, logprobs=None, message=ChatCompletionMessage(content='20 + (2*4) = 20 + 8 = 28', role='assistant', function_call=None, tool_calls=None))], 'created': 1720679826, 'model': 'gpt-3.5-turbo-0125', 'object': 'chat.completion', 'service_tier': None, 'system_fingerprint': None, 'usage': CompletionUsage(completion_tokens=16, prompt_tokens=20, total_tokens=36)}, logprobs=None, delta=None)"
      ]
     },
     "execution_count": 1,
     "metadata": {},
     "output_type": "execute_result"
    }
   ],
   "source": [
    "from llama_index.llms.openai import OpenAI\n",
    "\n",
    "llm = OpenAI(model=\"gpt-3.5-turbo\")\n",
    "llm.complete(\"What is 20+(2*4)? Calculate step by step\")"
   ]
  },
  {
   "cell_type": "markdown",
   "id": "3912403d-7436-4c30-9382-94e89cedac83",
   "metadata": {},
   "source": [
    "It does pretty well on this simple example, but we are kinda rolling the dice and hoping it gives us the right answer.\n",
    "\n",
    "Instead, let's try it the ReAct way."
   ]
  },
  {
   "cell_type": "markdown",
   "id": "f3dac029-fc99-4df0-87b8-521008ef86a7",
   "metadata": {},
   "source": [
    "## ReAct with a Calculator"
   ]
  },
  {
   "cell_type": "code",
   "execution_count": 9,
   "id": "8620c2ba-dedc-4584-8e68-ec0122214ed7",
   "metadata": {},
   "outputs": [],
   "source": [
    "from llama_index.core.agent import ReActAgent\n",
    "from llama_index.llms.openai import OpenAI\n",
    "from llama_index.core.llms import ChatMessage\n",
    "from llama_index.core.tools import BaseTool, FunctionTool\n",
    "\n",
    "llm = OpenAI(model=\"gpt-4\")"
   ]
  },
  {
   "cell_type": "code",
   "execution_count": 10,
   "id": "d8f87ce7-854c-4a5b-a6eb-c59d05883ffd",
   "metadata": {},
   "outputs": [],
   "source": [
    "def multiply(a: int, b: int) -> int:\n",
    "    \"\"\"Multiply two integers and returns the result integer\"\"\"\n",
    "    return a * b\n",
    "\n",
    "\n",
    "multiply_tool = FunctionTool.from_defaults(fn=multiply)\n",
    "\n",
    "def add(a: int, b: int) -> int:\n",
    "    \"\"\"Add two integers and returns the result integer\"\"\"\n",
    "    return a + b\n",
    "\n",
    "add_tool = FunctionTool.from_defaults(fn=add)"
   ]
  },
  {
   "cell_type": "code",
   "execution_count": 11,
   "id": "cfbc6399-3b00-4fdf-a36f-e2ad9dec8979",
   "metadata": {},
   "outputs": [
    {
     "name": "stdout",
     "output_type": "stream",
     "text": [
      "> Running step 7eb0c6ef-994a-4d25-909b-975a5cca2a5f. Step input: What is 20+(2x4)? Calculate step by step.\n",
      "\u001b[1;3;38;5;200mThought: The user wants to calculate the expression 20+(2x4) step by step. According to the order of operations (BIDMAS/BODMAS), multiplication should be performed before addition. So, I will first calculate 2x4 using the 'multiply' tool.\n",
      "Action: multiply\n",
      "Action Input: {'a': 2, 'b': 4}\n",
      "\u001b[0m\u001b[1;3;34mObservation: 8\n",
      "\u001b[0m> Running step 1c2f9a86-35dd-466c-ab40-66771fda2236. Step input: None\n",
      "\u001b[1;3;38;5;200mThought: The multiplication result is 8. Now, I need to add this result to 20. I will use the 'add' tool for this.\n",
      "Action: add\n",
      "Action Input: {'a': 20, 'b': 8}\n",
      "\u001b[0m\u001b[1;3;34mObservation: 28\n",
      "\u001b[0m> Running step 41158437-d23e-4980-b6db-dea6196fdaf4. Step input: None\n",
      "\u001b[1;3;38;5;200mThought: I can answer without using any more tools. I'll use the user's language to answer.\n",
      "Answer: The result of the calculation 20+(2x4) is 28.\n",
      "\u001b[0mThe result of the calculation 20+(2x4) is 28.\n"
     ]
    }
   ],
   "source": [
    "agent = ReActAgent.from_tools([multiply_tool, add_tool], llm=llm, verbose=True)\n",
    "response = agent.chat(\"What is 20+(2x4)? Calculate step by step.\")\n",
    "\n",
    "print(response)"
   ]
  },
  {
   "cell_type": "code",
   "execution_count": 12,
   "id": "344833d6-c116-448b-8cca-c0d12082b2b8",
   "metadata": {
    "scrolled": true
   },
   "outputs": [
    {
     "name": "stdout",
     "output_type": "stream",
     "text": [
      "Prompt: agent_worker:system_prompt\n",
      "\n",
      "Value: You are designed to help with a variety of tasks, from answering questions to providing summaries to other types of analyses.\n",
      "\n",
      "## Tools\n",
      "\n",
      "You have access to a wide variety of tools. You are responsible for using the tools in any sequence you deem appropriate to complete the task at hand.\n",
      "This may require breaking the task into subtasks and using different tools to complete each subtask.\n",
      "\n",
      "You have access to the following tools:\n",
      "{tool_desc}\n",
      "\n",
      "\n",
      "## Output Format\n",
      "\n",
      "Please answer in the same language as the question and use the following format:\n",
      "\n",
      "```\n",
      "Thought: The current language of the user is: (user's language). I need to use a tool to help me answer the question.\n",
      "Action: tool name (one of {tool_names}) if using a tool.\n",
      "Action Input: the input to the tool, in a JSON format representing the kwargs (e.g. {{\"input\": \"hello world\", \"num_beams\": 5}})\n",
      "```\n",
      "\n",
      "Please ALWAYS start with a Thought.\n",
      "\n",
      "Please use a valid JSON format for the Action Input. Do NOT do this {{'input': 'hello world', 'num_beams': 5}}.\n",
      "\n",
      "If this format is used, the user will respond in the following format:\n",
      "\n",
      "```\n",
      "Observation: tool response\n",
      "```\n",
      "\n",
      "You should keep repeating the above format till you have enough information to answer the question without using any more tools. At that point, you MUST respond in the one of the following two formats:\n",
      "\n",
      "```\n",
      "Thought: I can answer without using any more tools. I'll use the user's language to answer\n",
      "Answer: [your answer here (In the same language as the user's question)]\n",
      "```\n",
      "\n",
      "```\n",
      "Thought: I cannot answer the question with the provided tools.\n",
      "Answer: [your answer here (In the same language as the user's question)]\n",
      "```\n",
      "\n",
      "## Current Conversation\n",
      "\n",
      "Below is the current conversation consisting of interleaving human and assistant messages.\n",
      "\n"
     ]
    }
   ],
   "source": [
    "prompt_dict = agent.get_prompts()\n",
    "for k, v in prompt_dict.items():\n",
    "    print(f\"Prompt: {k}\\n\\nValue: {v.template}\")"
   ]
  },
  {
   "cell_type": "markdown",
   "id": "23d72ccb-717a-45e4-8555-ace9ba0dcd73",
   "metadata": {},
   "source": [
    "## Querying an API"
   ]
  },
  {
   "cell_type": "code",
   "execution_count": 13,
   "id": "5e244cea-f73e-4e8d-8e49-7b5dbc4ae81a",
   "metadata": {},
   "outputs": [],
   "source": [
    "from llama_index.core.tools.ondemand_loader_tool import OnDemandLoaderTool\n",
    "from llama_index.readers.wikipedia import WikipediaReader\n",
    "from typing import List\n",
    "\n",
    "from pydantic import BaseModel"
   ]
  },
  {
   "cell_type": "code",
   "execution_count": 14,
   "id": "1a0af38e-ba7e-4c85-8ba3-aa8ba2966fd5",
   "metadata": {},
   "outputs": [],
   "source": [
    "reader = WikipediaReader()"
   ]
  },
  {
   "cell_type": "code",
   "execution_count": 18,
   "id": "62f3cdde-19c2-4290-9ff5-401ae41aafaa",
   "metadata": {},
   "outputs": [],
   "source": [
    "wikipedia_tool = OnDemandLoaderTool.from_defaults(\n",
    "    reader,\n",
    "    name=\"wikipedia_tool\",\n",
    "    description=\"A tool for loading and querying articles from Wikipedia\",\n",
    ")"
   ]
  },
  {
   "cell_type": "code",
   "execution_count": 19,
   "id": "01c1cc16-b6c8-4d6e-b3d5-933a9e04a269",
   "metadata": {
    "scrolled": true
   },
   "outputs": [
    {
     "data": {
      "text/plain": [
       "ToolOutput(content='Snorlax debuted in the Game Boy video game Pokémon Red and Blue, which was released in 1996.', tool_name='wikipedia_tool', raw_input={'query': 'In what year did Snorlax debut?'}, raw_output=Response(response='Snorlax debuted in the Game Boy video game Pokémon Red and Blue, which was released in 1996.', source_nodes=[NodeWithScore(node=TextNode(id_='0154872d-26ac-410c-b7f3-e39cf8ff0da7', embedding=None, metadata={}, excluded_embed_metadata_keys=[], excluded_llm_metadata_keys=[], relationships={<NodeRelationship.SOURCE: '1'>: RelatedNodeInfo(node_id='25824540', node_type=<ObjectType.DOCUMENT: '4'>, metadata={}, hash='6431e4ebddf77c17d4bfa7d5cd8514c408b204125ca4c97b30e9547b3159daae'), <NodeRelationship.PREVIOUS: '2'>: RelatedNodeInfo(node_id='80c307e6-397b-4855-b8c6-a384768d5a0a', node_type=<ObjectType.TEXT: '1'>, metadata={}, hash='19e5e534742de13802abd04e88607185208df810e3f2a9ede0f4a46e4dcce663')}, text='=== In other media ===\\nA notable Snorlax appears in the Pokémon anime, where series protagonist Ash Ketchum captures one. He uses it sporadically, due to its constant sleeping and eating habits, but it is a particularly strong battler, netting several major wins for Ash throughout the series. In the Pokémon Adventures manga, Red catches a Snorlax, which he nicknames \"Snor\". Red caught Snor because he was blocking the road during a bicycle race. Snorlax has since played a major role in his team. A Snorlax also appeared in the film Pokémon Detective Pikachu, sleeping on a road in Ryme City. \\n\\n\\n== Promotion and reception ==\\nA variety of merchandise depicting Snorlax has been produced such as cushions, beds, bean bag chairs, toys, and lounge chairs. In 2002, a contest was held to design a card for the Pokemon Trading Card Game, with Snorlax as the focus. Twenty entries were selected and posted to the Wizards of the Coast website, where the winner could be decided. Craig Turvey ended up winning the competition. Stickers featuring Snorlax were added to the Line messasging system in 2024. In 2023, \"Project Snorlax\" was announced, following similar campaigns for the Pokémon Eevee and Piplup, which promoted Snorlax in a variety of ways throughout the year. These included animated shorts, music videos, manga series, and special artwork for the Pokémon. A road in Las Vegas was named after Snorlax. Snorlax was a rare Pokémon in Pokémon Go, with sightings of the Pokémon in-game causing a stampede in Taiwan and New York City. Following earthquakes in Japan, Niantic boosted the spawn rates of Snorlax in Pokémon Go in affected prefectures in order to boost tourism in the area.\\nSnorlax has received generally positive reception from the media, and has been cited as one of the franchise\\' most recognizable characters. Nadine Manske of Dot eSports attributed their appeal to being \"so relatable. Who doesn’t want to just eat and sleep all day?\" She further described it as having a \"classic, simple design that makes it a lovable, staple Pokémon in every generation since the beginning.\" Ryan Woodrow for Sports Illustrated stated that one would be hard pressed to find anyone that hated Snorlax, also calling it a simple design but yet \"such a lovable cuddly teddy bear that everyone who lays eyes on it falls in love with it.\" Alec Bojalad of Den of Geek called Snorlax \"just a big cuddly critter\" that was \"eminently merchandisable\", suggesting it would make a viable option as a mascot for the Pokémon franchise. Elijah Watson of Complex stated that while Snorlax was extremely lazy, they were also extremely powerful, despite their slow speed. He further added \"We should all strive to be Snorlax: lazy as hell but surprisingly awesome.\" A video released for Project Snorlax, depicting Cubone and Snorlax—two normally solitary Pokémon—bonding received positive reviews from critics, with many highlighting it as heartwarming. \\nThe book Media and the Make-believe Worlds of Children found that children could relate to Snorlax and interpret aspects of themselves in a positive light, describing it as an icon for a state of regression, but also symbolizing powerful characteristics for children. Scientific papers have also been published analyzing Snorlax, both in regards to their eating habits and to calculate the strength of their \"Body Slam\" attack.\\n\\n\\n== References ==\\n\\n\\n== External links ==\\nSnorlax  at Bulbapedia, a Pokémon wiki \\nSnorlax on Pokemon.com', mimetype='text/plain', start_char_idx=5146, end_char_idx=8621, text_template='{metadata_str}\\n\\n{content}', metadata_template='{key}: {value}', metadata_seperator='\\n'), score=0.8411871220534032), NodeWithScore(node=TextNode(id_='f00c7e74-a7a0-42d4-a41c-5b56596617c6', embedding=None, metadata={}, excluded_embed_metadata_keys=[], excluded_llm_metadata_keys=[], relationships={<NodeRelationship.SOURCE: '1'>: RelatedNodeInfo(node_id='25824540', node_type=<ObjectType.DOCUMENT: '4'>, metadata={}, hash='6431e4ebddf77c17d4bfa7d5cd8514c408b204125ca4c97b30e9547b3159daae'), <NodeRelationship.NEXT: '3'>: RelatedNodeInfo(node_id='80c307e6-397b-4855-b8c6-a384768d5a0a', node_type=<ObjectType.TEXT: '1'>, metadata={}, hash='19e5e534742de13802abd04e88607185208df810e3f2a9ede0f4a46e4dcce663')}, text='Snorlax (), known in Japan as Kabigon (カビゴン), is a Pokémon species in Nintendo and Game Freak\\'s Pokémon franchise. Created by Ken Sugimori, Snorlax first appeared in the Game Boy video game Pokémon Red and Blue, and subsequent sequels, later appearing in various merchandise, spin-off titles, and animated and printed adaptations of the franchise, as well as the mascot of mobile game Pokémon Sleep. Snorlax is a large, blueish creature, notable for constantly sleeping. Snorlax is voiced by Michael Haigney and Eric Stuart in English, and Katsuyuki Konishi in Japanese.  \\nSnorlax has received generally positive response since its debut, cited as one of the series\\' most recognizable characters and a staple of the Pokémon franchise due to its simple design. It\\'s large size and lazy demeanor has led to it being described as \"relatable\", while others have praised its \"cuddly\" and merchandisable appearance, comparing it to a teddy bear.\\n\\n\\n== Conception and characteristics ==\\nSnorlax is a fictional species of Pokémon created for the Pokémon franchise. Developed by Game Freak and published by Nintendo, the series began in Japan in 1996 with the release of the video games Pokémon Red and Blue for the Game Boy. In these games, the player assumes the role of a Pokémon Trainer whose goal is to capture and train creatures called Pokémon. Players use the creatures\\' special abilities to combat other Pokémon, and some can transform into stronger species through a process called evolution.\\n\\nDesigned by Ken Sugimori for the first generation of Pokémon games, the species was inspired in behavior and appearance by veteran Pokémon game designer Kōji Nishino. Nishino was exceptionally pleased by it, and in an interview with Famitsu stated Snorlax \"is like my son!\" According to Game Freak co-founder Junichi Masuda, Nishino had a habit of eating heavily then going to sleep. This behavior earned Nishino the nickname \"Kirby\" by Game Freak\\'s staff as a nod to the Nintendo character, which in turn served as the basis for the Pokémon\\'s Japanese name, \"Kabigon\". An earlier design, nicknamed \"Kabiin,\" resembles an earlier version of Snorlax and bears similarities to Nishino. When translating the Pokémon games for western audiences, Nintendo decided to give the various Pokémon species \"clever and descriptive names\" related to their appearance or features to make the characters more relatable to American children. Basing the name off of the esquilax, a fictional rabbit creature from the Simpsons episode \"Lisa\\'s Wedding\", localizer Bill Giese named the species in American releases Snorlax, a portmanteau of the words \"snore\" and \"lax\". Localizer Sara Bush, on the other hand, remembered the naming process differently, suggesting it was a combination of \"lackadaisical\" and \"snore\".\\nSnorlax is a highly sleepy Pokémon, known for constantly sleeping. Thanks to its extremely strong digestive juices, Snorlax\\'s stomach can dissolve any kind of poison. As a result, it can eat tainted food without worry. Snorlax evolves from the Pokémon Munchlax, which is obtainable via breeding a Snorlax that is holding Full Incense, an in-game item. Munchlax also sports a voracious appetite, and evolves into a Snorlax when it has a sufficiently high level of friendship with its Trainer. Pokémon Sword and Shield introduced Snorlax\\'s Gigantamax form. When Gigantamaxed, Snorlax grows significantly larger and changes appearance, with various trees and plants appearing on its belly, having grown from seeds that fell from the plants it had eaten. Snorlax was voiced by Michael Haigney and Eric Stuart in English, and by Katsuyuki Konishi in Japanese.\\n\\n\\n== Appearances ==', mimetype='text/plain', start_char_idx=0, end_char_idx=3665, text_template='{metadata_str}\\n\\n{content}', metadata_template='{key}: {value}', metadata_seperator='\\n'), score=0.8406460452463181)], metadata={'0154872d-26ac-410c-b7f3-e39cf8ff0da7': {}, 'f00c7e74-a7a0-42d4-a41c-5b56596617c6': {}}), is_error=False)"
      ]
     },
     "execution_count": 19,
     "metadata": {},
     "output_type": "execute_result"
    }
   ],
   "source": [
    "wikipedia_tool([\"Snorlax\"], query_str=\"In what year did Snorlax debut?\")"
   ]
  },
  {
   "cell_type": "code",
   "execution_count": 20,
   "id": "80d69b32-7b2b-4a68-ae90-1c64c57a096b",
   "metadata": {},
   "outputs": [
    {
     "name": "stdout",
     "output_type": "stream",
     "text": [
      "> Running step d256bc1c-63b0-45d9-9425-3c0aba0f7c29. Step input: In what year did Snorlax debut?\n",
      "\u001b[1;3;38;5;200mThought: Snorlax is a character from the Pokémon franchise. I can find the debut year of Snorlax by querying the Wikipedia page for Snorlax.\n",
      "Action: wikipedia_tool\n",
      "Action Input: {'pages': ['Snorlax']}\n",
      "\u001b[0m\u001b[1;3;34mObservation: Error: Missing query_str in kwargs with parameter name: query_str\n",
      "\u001b[0m> Running step 790de42e-045d-4ac8-96f8-488f5d555060. Step input: None\n",
      "\u001b[1;3;38;5;200mThought: I made a mistake by not including a query string in my tool input. I need to specify what information I'm looking for on the Snorlax Wikipedia page.\n",
      "Action: wikipedia_tool\n",
      "Action Input: {'pages': ['Snorlax'], 'query_str': 'first appeared'}\n",
      "\u001b[0m\u001b[1;3;34mObservation: Snorlax first appeared in the Game Boy video game Pokémon Red and Blue.\n",
      "\u001b[0m> Running step 6532b3bb-8896-493c-852b-110a989839fe. Step input: None\n",
      "\u001b[1;3;38;5;200mThought: Snorlax first appeared in the Pokémon Red and Blue video games. I need to find out when these games were released to determine the debut year of Snorlax.\n",
      "Action: wikipedia_tool\n",
      "Action Input: {'pages': ['Pokémon Red and Blue'], 'query_str': 'release date'}\n",
      "\u001b[0m\u001b[1;3;34mObservation: February 27, 1996\n",
      "\u001b[0m> Running step dfe077a4-79cd-4176-a189-fec494d0f7a4. Step input: None\n",
      "\u001b[1;3;38;5;200mThought: I can answer without using any more tools. I'll use the user's language to answer.\n",
      "Answer: Snorlax debuted in the year 1996.\n",
      "\u001b[0m"
     ]
    }
   ],
   "source": [
    "agent = ReActAgent.from_tools([wikipedia_tool], llm=llm, verbose=True)\n",
    "response = agent.chat(\"In what year did Snorlax debut?\")"
   ]
  },
  {
   "cell_type": "markdown",
   "id": "1c147146-bce3-4681-91f6-30a5eb77da01",
   "metadata": {},
   "source": [
    "Pasting an example directly into ChatGPT\n",
    "\n",
    "```\n",
    "Context information is below.\n",
    "---------------------\n",
    "Snorlax debuted in the Game Boy video game Pokémon Red and Blue, which was released in 1996.\n",
    "---------------------\n",
    "Given the context information and not prior knowledge, answer the query.\n",
    "Query: \"In what year did Snorlax debut\n",
    "Answer:  \n",
    "```\n",
    "> Snorlax debuted in 1996.\n",
    "\n",
    "```\n",
    "Context information is below.\n",
    "---------------------\n",
    "Snotlax debuted in the Game Boy video game Pokémon Orange and Blue, which was released in 2145.\n",
    "---------------------\n",
    "Given the context information and not prior knowledge, answer the query.\n",
    "Query: In what year did Psyduck debut\n",
    "Answer:\n",
    "```\n",
    "> Based on the context information provided, it states that Snotlax debuted in the Game Boy video game \"Pokémon Orange and Blue\" in 2145. However, there is no information about the debut year of Psyduck within the provided context."
   ]
  },
  {
   "cell_type": "code",
   "execution_count": null,
   "id": "949abd90-008c-4b2b-9cdc-f72ab1c1a91c",
   "metadata": {},
   "outputs": [],
   "source": []
  }
 ],
 "metadata": {
  "kernelspec": {
   "display_name": "Python 3 (ipykernel)",
   "language": "python",
   "name": "python3"
  },
  "language_info": {
   "codemirror_mode": {
    "name": "ipython",
    "version": 3
   },
   "file_extension": ".py",
   "mimetype": "text/x-python",
   "name": "python",
   "nbconvert_exporter": "python",
   "pygments_lexer": "ipython3",
   "version": "3.11.8"
  }
 },
 "nbformat": 4,
 "nbformat_minor": 5
}
