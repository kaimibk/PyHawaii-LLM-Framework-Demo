{
 "cells": [
  {
   "cell_type": "markdown",
   "metadata": {},
   "source": [
    "## LlamaIndex Quickstart"
   ]
  },
  {
   "cell_type": "markdown",
   "metadata": {},
   "source": [
    "## (1) Select Model\n",
    "\n",
    "List of supported models: https://docs.llamaindex.ai/en/stable/module_guides/models/llms/modules/"
   ]
  },
  {
   "cell_type": "code",
   "execution_count": 1,
   "metadata": {},
   "outputs": [],
   "source": [
    "from llama_index.llms.openai import OpenAI\n",
    "# from llama_index.llms.anthropic import Anthropic\n",
    "\n",
    "llm = OpenAI(model=\"gpt-3.5-turbo\")\n",
    "# llm = Anthropic(model=\"claude-2\")"
   ]
  },
  {
   "cell_type": "markdown",
   "metadata": {},
   "source": [
    "### Example Usage"
   ]
  },
  {
   "cell_type": "code",
   "execution_count": 2,
   "metadata": {},
   "outputs": [
    {
     "name": "stdout",
     "output_type": "stream",
     "text": [
      "response=CompletionResponse(text=\"My favorite cookie recipe is for classic chocolate chip cookies. Here's how to make them:\\n\\nIngredients:\\n- 1 cup (2 sticks) unsalted butter, softened\\n- 1 cup granulated sugar\\n- 1 cup packed brown sugar\\n- 2 large eggs\\n- 1 teaspoon vanilla extract\\n- 3 cups all-purpose flour\\n- 1 teaspoon baking soda\\n- 1/2 teaspoon salt\\n- 2 cups semisweet chocolate chips\\n\\nInstructions:\\n1. Preheat the oven to 350°F (180°C) and line a baking sheet with parchment paper.\\n2. In a large mixing bowl, cream together the butter, granulated sugar, and brown sugar until light and fluffy.\\n3. Beat in the eggs one at a time, then stir in the vanilla extract.\\n4. In a separate bowl, whisk together the flour, baking soda, and salt. Gradually add the dry ingredients to the wet ingredients and mix until well combined.\\n5. Fold in the chocolate chips until evenly distributed throughout the dough.\\n6. Drop rounded tablespoons of dough onto the prepared baking sheet, spacing them about 2 inches apart.\\n7. Bake in the preheated oven for 10-12 minutes, or until the edges are golden brown.\\n8. Allow the cookies to cool on the baking sheet for a few minutes before transferring them to a wire rack to cool completely.\\n\\nEnjoy your delicious homemade chocolate chip cookies!\", additional_kwargs={}, raw={'id': 'chatcmpl-9ibIerzNdlxBYGT6O51TKHQ5RvfNN', 'choices': [Choice(finish_reason='stop', index=0, logprobs=None, message=ChatCompletionMessage(content=\"My favorite cookie recipe is for classic chocolate chip cookies. Here's how to make them:\\n\\nIngredients:\\n- 1 cup (2 sticks) unsalted butter, softened\\n- 1 cup granulated sugar\\n- 1 cup packed brown sugar\\n- 2 large eggs\\n- 1 teaspoon vanilla extract\\n- 3 cups all-purpose flour\\n- 1 teaspoon baking soda\\n- 1/2 teaspoon salt\\n- 2 cups semisweet chocolate chips\\n\\nInstructions:\\n1. Preheat the oven to 350°F (180°C) and line a baking sheet with parchment paper.\\n2. In a large mixing bowl, cream together the butter, granulated sugar, and brown sugar until light and fluffy.\\n3. Beat in the eggs one at a time, then stir in the vanilla extract.\\n4. In a separate bowl, whisk together the flour, baking soda, and salt. Gradually add the dry ingredients to the wet ingredients and mix until well combined.\\n5. Fold in the chocolate chips until evenly distributed throughout the dough.\\n6. Drop rounded tablespoons of dough onto the prepared baking sheet, spacing them about 2 inches apart.\\n7. Bake in the preheated oven for 10-12 minutes, or until the edges are golden brown.\\n8. Allow the cookies to cool on the baking sheet for a few minutes before transferring them to a wire rack to cool completely.\\n\\nEnjoy your delicious homemade chocolate chip cookies!\", role='assistant', function_call=None, tool_calls=None))], 'created': 1720416840, 'model': 'gpt-3.5-turbo-0125', 'object': 'chat.completion', 'service_tier': None, 'system_fingerprint': None, 'usage': CompletionUsage(completion_tokens=291, prompt_tokens=13, total_tokens=304)}, logprobs=None, delta=None)\n"
     ]
    }
   ],
   "source": [
    "response = llm.complete(\"Share your favorite cookie recipe.\")\n",
    "\n",
    "print(f\"{response=}\")"
   ]
  },
  {
   "cell_type": "code",
   "execution_count": 3,
   "metadata": {},
   "outputs": [
    {
     "name": "stdout",
     "output_type": "stream",
     "text": [
      "My favorite cookie recipe is for classic chocolate chip cookies. Here's how to make them:\n",
      "\n",
      "Ingredients:\n",
      "- 1 cup (2 sticks) unsalted butter, softened\n",
      "- 1 cup granulated sugar\n",
      "- 1 cup packed brown sugar\n",
      "- 2 large eggs\n",
      "- 1 teaspoon vanilla extract\n",
      "- 3 cups all-purpose flour\n",
      "- 1 teaspoon baking soda\n",
      "- 1/2 teaspoon salt\n",
      "- 2 cups semisweet chocolate chips\n",
      "\n",
      "Instructions:\n",
      "1. Preheat the oven to 350°F (180°C) and line a baking sheet with parchment paper.\n",
      "2. In a large mixing bowl, cream together the butter, granulated sugar, and brown sugar until light and fluffy.\n",
      "3. Beat in the eggs one at a time, then stir in the vanilla extract.\n",
      "4. In a separate bowl, whisk together the flour, baking soda, and salt. Gradually add the dry ingredients to the wet ingredients and mix until well combined.\n",
      "5. Fold in the chocolate chips until evenly distributed throughout the dough.\n",
      "6. Drop rounded tablespoons of dough onto the prepared baking sheet, spacing them about 2 inches apart.\n",
      "7. Bake in the preheated oven for 10-12 minutes, or until the edges are golden brown.\n",
      "8. Allow the cookies to cool on the baking sheet for a few minutes before transferring them to a wire rack to cool completely.\n",
      "\n",
      "Enjoy your delicious homemade chocolate chip cookies!\n"
     ]
    }
   ],
   "source": [
    "print(response.text)"
   ]
  },
  {
   "cell_type": "markdown",
   "metadata": {},
   "source": [
    "## (2) Define Templates"
   ]
  },
  {
   "cell_type": "code",
   "execution_count": 5,
   "metadata": {},
   "outputs": [
    {
     "name": "stdout",
     "output_type": "stream",
     "text": [
      "Share your favorite recipe for buttah mochi\n"
     ]
    }
   ],
   "source": [
    "from llama_index.core import PromptTemplate\n",
    "\n",
    "prompt = PromptTemplate(\"Share your favorite recipe for {product}.\")\n",
    "\n",
    "print(prompt.format(product=\"buttah mochi\"))"
   ]
  },
  {
   "cell_type": "markdown",
   "metadata": {},
   "source": [
    "## (3) Define Pipelines"
   ]
  },
  {
   "cell_type": "code",
   "execution_count": 6,
   "metadata": {},
   "outputs": [],
   "source": [
    "from llama_index.core.query_pipeline import QueryPipeline\n",
    "\n",
    "pipeline = QueryPipeline(chain=[prompt, llm], verbose=True)"
   ]
  },
  {
   "cell_type": "markdown",
   "metadata": {},
   "source": [
    "## (4) Invoke Pipelines"
   ]
  },
  {
   "cell_type": "code",
   "execution_count": 7,
   "metadata": {},
   "outputs": [
    {
     "name": "stdout",
     "output_type": "stream",
     "text": [
      "\u001b[1;3;38;2;155;135;227m> Running module 927223cb-3aaf-4bea-9ef3-69c5f8ee5aee with input: \n",
      "product: buttah mochi\n",
      "\n",
      "\u001b[0m\u001b[1;3;38;2;155;135;227m> Running module c9c82f78-c85c-4494-ab04-c85103274bfe with input: \n",
      "messages: Share your favorite recipe for buttah mochi\n",
      "\n",
      "\u001b[0mresponse=ChatResponse(message=ChatMessage(role=<MessageRole.ASSISTANT: 'assistant'>, content='Butter mochi is a delicious Hawaiian dessert that is chewy, sweet, and buttery. Here is my favorite recipe for butter mochi:\\n\\nIngredients:\\n- 1 box (16 oz) mochiko (sweet rice flour)\\n- 2 cups sugar\\n- 1 teaspoon baking powder\\n- 1/2 cup butter, melted\\n- 1 can (13.5 oz) coconut milk\\n- 1 can (12 oz) evaporated milk\\n- 4 eggs, beaten\\n- 1 teaspoon vanilla extract\\n\\nInstructions:\\n1. Preheat your oven to 350°F and grease a 9x13 inch baking dish.\\n2. In a large bowl, combine the mochiko, sugar, and baking powder.\\n3. In a separate bowl, mix together the melted butter, coconut milk, evaporated milk, eggs, and vanilla extract.\\n4. Slowly pour the wet ingredients into the dry ingredients, stirring until well combined.\\n5. Pour the batter into the prepared baking dish and bake for 1 hour, or until the top is golden brown and the edges are slightly crispy.\\n6. Allow the butter mochi to cool before cutting into squares and serving.\\n\\nEnjoy your delicious butter mochi!', additional_kwargs={}), raw={'id': 'chatcmpl-9ibP5qTmU01DJiJv7SV9tQBDNaMFq', 'choices': [Choice(finish_reason='stop', index=0, logprobs=None, message=ChatCompletionMessage(content='Butter mochi is a delicious Hawaiian dessert that is chewy, sweet, and buttery. Here is my favorite recipe for butter mochi:\\n\\nIngredients:\\n- 1 box (16 oz) mochiko (sweet rice flour)\\n- 2 cups sugar\\n- 1 teaspoon baking powder\\n- 1/2 cup butter, melted\\n- 1 can (13.5 oz) coconut milk\\n- 1 can (12 oz) evaporated milk\\n- 4 eggs, beaten\\n- 1 teaspoon vanilla extract\\n\\nInstructions:\\n1. Preheat your oven to 350°F and grease a 9x13 inch baking dish.\\n2. In a large bowl, combine the mochiko, sugar, and baking powder.\\n3. In a separate bowl, mix together the melted butter, coconut milk, evaporated milk, eggs, and vanilla extract.\\n4. Slowly pour the wet ingredients into the dry ingredients, stirring until well combined.\\n5. Pour the batter into the prepared baking dish and bake for 1 hour, or until the top is golden brown and the edges are slightly crispy.\\n6. Allow the butter mochi to cool before cutting into squares and serving.\\n\\nEnjoy your delicious butter mochi!', role='assistant', function_call=None, tool_calls=None))], 'created': 1720417239, 'model': 'gpt-3.5-turbo-0125', 'object': 'chat.completion', 'service_tier': None, 'system_fingerprint': None, 'usage': CompletionUsage(completion_tokens=250, prompt_tokens=16, total_tokens=266)}, delta=None, logprobs=None, additional_kwargs={})\n"
     ]
    }
   ],
   "source": [
    "response = pipeline.run(product=\"buttah mochi\")\n",
    "\n",
    "print(f\"{response=}\")"
   ]
  },
  {
   "cell_type": "code",
   "execution_count": 9,
   "metadata": {},
   "outputs": [
    {
     "name": "stdout",
     "output_type": "stream",
     "text": [
      "assistant: Butter mochi is a delicious Hawaiian dessert that is chewy, sweet, and buttery. Here is my favorite recipe for butter mochi:\n",
      "\n",
      "Ingredients:\n",
      "- 1 box (16 oz) mochiko (sweet rice flour)\n",
      "- 2 cups sugar\n",
      "- 1 teaspoon baking powder\n",
      "- 1/2 cup butter, melted\n",
      "- 1 can (13.5 oz) coconut milk\n",
      "- 1 can (12 oz) evaporated milk\n",
      "- 4 eggs, beaten\n",
      "- 1 teaspoon vanilla extract\n",
      "\n",
      "Instructions:\n",
      "1. Preheat your oven to 350°F and grease a 9x13 inch baking dish.\n",
      "2. In a large bowl, combine the mochiko, sugar, and baking powder.\n",
      "3. In a separate bowl, mix together the melted butter, coconut milk, evaporated milk, eggs, and vanilla extract.\n",
      "4. Slowly pour the wet ingredients into the dry ingredients, stirring until well combined.\n",
      "5. Pour the batter into the prepared baking dish and bake for 1 hour, or until the top is golden brown and the edges are slightly crispy.\n",
      "6. Allow the butter mochi to cool before cutting into squares and serving.\n",
      "\n",
      "Enjoy your delicious butter mochi!\n"
     ]
    }
   ],
   "source": [
    "print(response.message)"
   ]
  },
  {
   "cell_type": "code",
   "execution_count": null,
   "metadata": {},
   "outputs": [],
   "source": []
  }
 ],
 "metadata": {
  "kernelspec": {
   "display_name": "Python 3 (ipykernel)",
   "language": "python",
   "name": "python3"
  },
  "language_info": {
   "codemirror_mode": {
    "name": "ipython",
    "version": 3
   },
   "file_extension": ".py",
   "mimetype": "text/x-python",
   "name": "python",
   "nbconvert_exporter": "python",
   "pygments_lexer": "ipython3",
   "version": "3.11.8"
  }
 },
 "nbformat": 4,
 "nbformat_minor": 4
}
