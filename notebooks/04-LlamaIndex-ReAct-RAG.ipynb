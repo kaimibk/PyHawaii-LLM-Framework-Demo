{
 "cells": [
  {
   "cell_type": "markdown",
   "id": "52e03ce2-137f-4ea8-87e8-2073ab763e4c",
   "metadata": {},
   "source": [
    "## LlamaIndex ReAct Agent with Query Engine (RAG) Tools\n",
    "\n",
    "https://docs.llamaindex.ai/en/stable/examples/agent/react_agent_with_query_engine/"
   ]
  },
  {
   "cell_type": "markdown",
   "id": "7cdfde53-fe8b-4e89-876e-f837db467750",
   "metadata": {},
   "source": [
    "## Build Query Engine Tools"
   ]
  },
  {
   "cell_type": "code",
   "execution_count": 1,
   "id": "4ea992c1-fd8c-4ff8-b740-bebf3c46cbbe",
   "metadata": {},
   "outputs": [],
   "source": [
    "from llama_index.core import (\n",
    "    SimpleDirectoryReader,\n",
    "    VectorStoreIndex,\n",
    "    StorageContext,\n",
    "    load_index_from_storage,\n",
    ")\n",
    "\n",
    "from llama_index.core.tools import QueryEngineTool, ToolMetadata"
   ]
  },
  {
   "cell_type": "code",
   "execution_count": 2,
   "id": "b444e020-d9f8-4bf4-ac18-265bcbb809f4",
   "metadata": {},
   "outputs": [],
   "source": [
    "try:\n",
    "    storage_context = StorageContext.from_defaults(\n",
    "        persist_dir=\"/app/data/storage/lyft\"\n",
    "    )\n",
    "    lyft_index = load_index_from_storage(storage_context)\n",
    "\n",
    "    storage_context = StorageContext.from_defaults(\n",
    "        persist_dir=\"/app/data/storage/uber\"\n",
    "    )\n",
    "    uber_index = load_index_from_storage(storage_context)\n",
    "\n",
    "    index_loaded = True\n",
    "except:\n",
    "    index_loaded = False"
   ]
  },
  {
   "cell_type": "code",
   "execution_count": 3,
   "id": "5e768c37-c5fe-4f3a-a8c6-c4fb13bd0df8",
   "metadata": {},
   "outputs": [
    {
     "name": "stdout",
     "output_type": "stream",
     "text": [
      "--2024-07-09 06:56:39--  https://raw.githubusercontent.com/run-llama/llama_index/main/docs/docs/examples/data/10k/uber_2021.pdf\n",
      "Resolving raw.githubusercontent.com (raw.githubusercontent.com)... 185.199.110.133, 185.199.109.133, 185.199.108.133, ...\n",
      "Connecting to raw.githubusercontent.com (raw.githubusercontent.com)|185.199.110.133|:443... connected.\n",
      "HTTP request sent, awaiting response... 200 OK\n",
      "Length: 1880483 (1.8M) [application/octet-stream]\n",
      "Saving to: ‘/app/data/10k/uber_2021.pdf’\n",
      "\n",
      "/app/data/10k/uber_ 100%[===================>]   1.79M  --.-KB/s    in 0.1s    \n",
      "\n",
      "2024-07-09 06:56:40 (13.5 MB/s) - ‘/app/data/10k/uber_2021.pdf’ saved [1880483/1880483]\n",
      "\n",
      "--2024-07-09 06:56:40--  https://raw.githubusercontent.com/run-llama/llama_index/main/docs/docs/examples/data/10k/lyft_2021.pdf\n",
      "Resolving raw.githubusercontent.com (raw.githubusercontent.com)... 185.199.110.133, 185.199.109.133, 185.199.108.133, ...\n",
      "Connecting to raw.githubusercontent.com (raw.githubusercontent.com)|185.199.110.133|:443... connected.\n",
      "HTTP request sent, awaiting response... 200 OK\n",
      "Length: 1440303 (1.4M) [application/octet-stream]\n",
      "Saving to: ‘/app/data/10k/lyft_2021.pdf’\n",
      "\n",
      "/app/data/10k/lyft_ 100%[===================>]   1.37M  --.-KB/s    in 0.1s    \n",
      "\n",
      "2024-07-09 06:56:41 (12.5 MB/s) - ‘/app/data/10k/lyft_2021.pdf’ saved [1440303/1440303]\n",
      "\n"
     ]
    }
   ],
   "source": [
    "!mkdir -p '/app/data/10k/'\n",
    "!wget 'https://raw.githubusercontent.com/run-llama/llama_index/main/docs/docs/examples/data/10k/uber_2021.pdf' -O '/app/data/10k/uber_2021.pdf'\n",
    "!wget 'https://raw.githubusercontent.com/run-llama/llama_index/main/docs/docs/examples/data/10k/lyft_2021.pdf' -O '/app/data/10k/lyft_2021.pdf'"
   ]
  },
  {
   "cell_type": "code",
   "execution_count": 3,
   "id": "cdd82d41-8f55-48ea-bafe-226779a27cc2",
   "metadata": {},
   "outputs": [],
   "source": [
    "if not index_loaded:\n",
    "    # load data\n",
    "    lyft_docs = SimpleDirectoryReader(\n",
    "        input_files=[\"/app/data/10k/lyft_2021.pdf\"]\n",
    "    ).load_data()\n",
    "    uber_docs = SimpleDirectoryReader(\n",
    "        input_files=[\"/app/data/10k/uber_2021.pdf\"]\n",
    "    ).load_data()\n",
    "\n",
    "    # build index\n",
    "    lyft_index = VectorStoreIndex.from_documents(lyft_docs)\n",
    "    uber_index = VectorStoreIndex.from_documents(uber_docs)\n",
    "\n",
    "    # persist index\n",
    "    lyft_index.storage_context.persist(persist_dir=\"/app/data/storage/lyft\")\n",
    "    uber_index.storage_context.persist(persist_dir=\"/app/data/storage/uber\")"
   ]
  },
  {
   "cell_type": "code",
   "execution_count": 4,
   "id": "26565b09-0ccb-470c-8dc8-d04a187a4b26",
   "metadata": {},
   "outputs": [],
   "source": [
    "lyft_engine = lyft_index.as_query_engine(similarity_top_k=3)\n",
    "uber_engine = uber_index.as_query_engine(similarity_top_k=3)"
   ]
  },
  {
   "cell_type": "code",
   "execution_count": 5,
   "id": "4bf2739b-34d8-44ce-98e3-36019bf37e4b",
   "metadata": {},
   "outputs": [],
   "source": [
    "query_engine_tools = [\n",
    "    QueryEngineTool(\n",
    "        query_engine=lyft_engine,\n",
    "        metadata=ToolMetadata(\n",
    "            name=\"lyft_10k\",\n",
    "            description=(\n",
    "                \"Provides information about Lyft financials for year 2021. \"\n",
    "                \"Use a detailed plain text question as input to the tool.\"\n",
    "            ),\n",
    "        ),\n",
    "    ),\n",
    "    QueryEngineTool(\n",
    "        query_engine=uber_engine,\n",
    "        metadata=ToolMetadata(\n",
    "            name=\"uber_10k\",\n",
    "            description=(\n",
    "                \"Provides information about Uber financials for year 2021. \"\n",
    "                \"Use a detailed plain text question as input to the tool.\"\n",
    "            ),\n",
    "        ),\n",
    "    ),\n",
    "]"
   ]
  },
  {
   "cell_type": "markdown",
   "id": "6546c3fa-2d5f-42ec-b4a4-8707c9cdf3e8",
   "metadata": {},
   "source": [
    "## Setup ReAct Agent"
   ]
  },
  {
   "cell_type": "code",
   "execution_count": 6,
   "id": "1b6368d8-39f1-49fb-802f-b19dab4bd243",
   "metadata": {},
   "outputs": [],
   "source": [
    "from llama_index.core.agent import ReActAgent\n",
    "from llama_index.llms.openai import OpenAI"
   ]
  },
  {
   "cell_type": "code",
   "execution_count": 8,
   "id": "10469d53-a16a-47fc-8b15-7fcc6d07d79f",
   "metadata": {},
   "outputs": [],
   "source": [
    "# [Optional] Add Context\n",
    "# context = \"\"\"\\\n",
    "# You are a stock market sorcerer who is an expert on the companies Lyft and Uber.\\\n",
    "#     You will answer questions about Uber and Lyft as in the persona of a sorcerer \\\n",
    "#     and veteran stock market investor.\n",
    "# \"\"\"\n",
    "llm = OpenAI(model=\"gpt-3.5-turbo\")\n",
    "\n",
    "agent = ReActAgent.from_tools(\n",
    "    query_engine_tools,\n",
    "    llm=llm,\n",
    "    verbose=True,\n",
    "    # context=context\n",
    ")"
   ]
  },
  {
   "cell_type": "code",
   "execution_count": 9,
   "id": "4ae51061-2d4f-4620-97c1-3d82c8ec6aaf",
   "metadata": {},
   "outputs": [
    {
     "name": "stdout",
     "output_type": "stream",
     "text": [
      "> Running step 2756bc63-9ad6-4b93-a054-c508bc1cf25e. Step input: What was Lyft's revenue growth in 2021?\n",
      "\u001b[1;3;38;5;200mThought: The user is asking about Lyft's revenue growth in 2021. I can use the lyft_10k tool to find this information.\n",
      "Action: lyft_10k\n",
      "Action Input: {'input': \"What was Lyft's revenue growth in 2021?\"}\n",
      "\u001b[0m\u001b[1;3;34mObservation: Lyft's revenue increased by 36% in 2021 compared to the prior year.\n",
      "\u001b[0m> Running step 0206e406-06d8-4a86-a6ec-d2e496f0842f. Step input: None\n",
      "\u001b[1;3;38;5;200mThought: I can answer the user's question without using any more tools.\n",
      "Answer: Lyft's revenue grew by 36% in 2021 compared to the previous year.\n",
      "\u001b[0mLyft's revenue grew by 36% in 2021 compared to the previous year.\n"
     ]
    }
   ],
   "source": [
    "response = agent.chat(\"What was Lyft's revenue growth in 2021?\")\n",
    "print(str(response))"
   ]
  },
  {
   "cell_type": "markdown",
   "id": "794ebe93-bf13-479e-a6ae-d857f3a372b1",
   "metadata": {},
   "source": [
    "## Running Example Queries"
   ]
  },
  {
   "cell_type": "code",
   "execution_count": 10,
   "id": "122882ed-a008-428c-80ec-681e2cc34a5d",
   "metadata": {},
   "outputs": [
    {
     "name": "stdout",
     "output_type": "stream",
     "text": [
      "> Running step b8247dae-9a57-49cd-b005-03da6a21fe7e. Step input: Compare and contrast the revenue growth of Uber and Lyft in 2021, then give an analysis\n",
      "\u001b[1;3;38;5;200mThought: I need to compare the revenue growth of Uber and Lyft in 2021 to provide an analysis.\n",
      "Action: lyft_10k\n",
      "Action Input: {'input': \"What was Lyft's revenue growth in 2021?\"}\n",
      "\u001b[0m\u001b[1;3;34mObservation: Lyft's revenue increased by 36% in 2021 compared to the prior year.\n",
      "\u001b[0m> Running step 31c0874e-1893-42af-92da-c934380161ad. Step input: None\n",
      "\u001b[1;3;38;5;200mThought: I need to gather information about Uber's revenue growth in 2021 to compare it with Lyft's growth.\n",
      "Action: uber_10k\n",
      "Action Input: {'input': \"What was Uber's revenue growth in 2021?\"}\n",
      "\u001b[0m\u001b[1;3;34mObservation: Uber's revenue grew by 57% in 2021.\n",
      "\u001b[0m> Running step 305fddf6-7ba0-45fb-aacb-0d72df4b4420. Step input: None\n",
      "\u001b[1;3;38;5;200mThought: I have the necessary information to compare and contrast the revenue growth of Uber and Lyft in 2021.\n",
      "Answer: In 2021, Uber's revenue growth was higher at 57% compared to Lyft's revenue growth of 36%. This indicates that Uber experienced a stronger growth in revenue during that year.\n",
      "\u001b[0mIn 2021, Uber's revenue growth was higher at 57% compared to Lyft's revenue growth of 36%. This indicates that Uber experienced a stronger growth in revenue during that year.\n"
     ]
    }
   ],
   "source": [
    "response = agent.chat(\n",
    "    \"Compare and contrast the revenue growth of Uber and Lyft in 2021, then give an analysis\"\n",
    ")\n",
    "print(str(response))"
   ]
  },
  {
   "cell_type": "code",
   "execution_count": 11,
   "id": "a052181e-98d2-4888-8745-baf120d03eaa",
   "metadata": {},
   "outputs": [
    {
     "name": "stdout",
     "output_type": "stream",
     "text": [
      "> Running step 9b209459-07ee-44af-9e5c-28dc306e9fa3. Step input: Can you tell me about the risk factors of the company with the higher revenue?\n",
      "\u001b[1;3;38;5;200mThought: I can answer without using any more tools. I'll use the user's language to answer\n",
      "Answer: The risk factors for Uber, which had higher revenue growth in 2021, may include regulatory challenges, competition in the ride-sharing industry, and potential impacts of economic downturns on consumer spending.\n",
      "\u001b[0mThe risk factors for Uber, which had higher revenue growth in 2021, may include regulatory challenges, competition in the ride-sharing industry, and potential impacts of economic downturns on consumer spending.\n"
     ]
    }
   ],
   "source": [
    "response = agent.chat(\n",
    "    \"Can you tell me about the risk factors of the company with the higher revenue?\"\n",
    ")\n",
    "print(str(response))"
   ]
  },
  {
   "cell_type": "code",
   "execution_count": null,
   "id": "bbe327d7-997c-42a3-9fb5-7be69dee082c",
   "metadata": {},
   "outputs": [],
   "source": []
  }
 ],
 "metadata": {
  "kernelspec": {
   "display_name": "Python 3 (ipykernel)",
   "language": "python",
   "name": "python3"
  },
  "language_info": {
   "codemirror_mode": {
    "name": "ipython",
    "version": 3
   },
   "file_extension": ".py",
   "mimetype": "text/x-python",
   "name": "python",
   "nbconvert_exporter": "python",
   "pygments_lexer": "ipython3",
   "version": "3.11.8"
  }
 },
 "nbformat": 4,
 "nbformat_minor": 5
}
