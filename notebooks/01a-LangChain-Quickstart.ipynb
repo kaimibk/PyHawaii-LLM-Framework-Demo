{
 "cells": [
  {
   "cell_type": "markdown",
   "id": "1b158dcc-deb9-47e9-851a-d8298f46a0b1",
   "metadata": {},
   "source": [
    "# LangChain Quickstart"
   ]
  },
  {
   "cell_type": "markdown",
   "id": "e3d758c4-91eb-4ff6-b89c-efded3a9be8d",
   "metadata": {},
   "source": [
    "## (1) Select Model\n",
    "\n",
    "List of supported models: https://python.langchain.com/v0.1/docs/integrations/llms/"
   ]
  },
  {
   "cell_type": "code",
   "execution_count": 1,
   "id": "c47a3ef2-849c-4515-9563-8bbfb4f97472",
   "metadata": {},
   "outputs": [],
   "source": [
    "from langchain_openai import ChatOpenAI\n",
    "# from langchain_anthropic import AnthropicLLM\n",
    "\n",
    "llm = ChatOpenAI(model=\"gpt-3.5-turbo\")\n",
    "# llm = AnthropicLLM(model=\"claude-2.1\")"
   ]
  },
  {
   "cell_type": "markdown",
   "id": "4b2fdaef-4395-461a-a6d6-9e7c124b1cad",
   "metadata": {},
   "source": [
    "### Example Usage"
   ]
  },
  {
   "cell_type": "code",
   "execution_count": 2,
   "id": "d5bee57c-f681-41ea-bc49-4585ac49b227",
   "metadata": {},
   "outputs": [
    {
     "name": "stdout",
     "output_type": "stream",
     "text": [
      "response=AIMessage(content=\"One of my favorite cookie recipes is for chocolate chip cookies. Here's how to make them:\\n\\nIngredients:\\n- 1 cup (2 sticks) unsalted butter, softened\\n- 1 cup granulated sugar\\n- 1 cup packed brown sugar\\n- 2 large eggs\\n- 1 teaspoon vanilla extract\\n- 3 cups all-purpose flour\\n- 1 teaspoon baking soda\\n- 1/2 teaspoon salt\\n- 2 cups semisweet chocolate chips\\n\\nInstructions:\\n1. Preheat the oven to 375°F (190°C). Line a baking sheet with parchment paper.\\n2. In a large mixing bowl, cream together the butter, granulated sugar, and brown sugar until light and fluffy.\\n3. Beat in the eggs one at a time, then stir in the vanilla extract.\\n4. In a separate bowl, whisk together the flour, baking soda, and salt. Gradually add the dry ingredients to the wet ingredients, mixing until well combined.\\n5. Stir in the chocolate chips.\\n6. Drop spoonfuls of dough onto the prepared baking sheet, leaving some space between each cookie.\\n7. Bake for 8-10 minutes, or until the edges are golden brown.\\n8. Allow the cookies to cool on the baking sheet for a few minutes before transferring them to a wire rack to cool completely.\\n\\nEnjoy your delicious homemade chocolate chip cookies!\", response_metadata={'token_usage': {'completion_tokens': 279, 'prompt_tokens': 13, 'total_tokens': 292}, 'model_name': 'gpt-3.5-turbo-0125', 'system_fingerprint': None, 'finish_reason': 'stop', 'logprobs': None}, id='run-54da7125-7ef5-45b3-b3d3-acaf1b49c276-0', usage_metadata={'input_tokens': 13, 'output_tokens': 279, 'total_tokens': 292})\n"
     ]
    }
   ],
   "source": [
    "response = llm.invoke(\"Share your favorite cookie recipe.\")\n",
    "\n",
    "print(f\"{response=}\")"
   ]
  },
  {
   "cell_type": "code",
   "execution_count": 3,
   "id": "c0b71770-4d17-4899-86ed-9849ef374855",
   "metadata": {},
   "outputs": [
    {
     "name": "stdout",
     "output_type": "stream",
     "text": [
      "One of my favorite cookie recipes is for chocolate chip cookies. Here's how to make them:\n",
      "\n",
      "Ingredients:\n",
      "- 1 cup (2 sticks) unsalted butter, softened\n",
      "- 1 cup granulated sugar\n",
      "- 1 cup packed brown sugar\n",
      "- 2 large eggs\n",
      "- 1 teaspoon vanilla extract\n",
      "- 3 cups all-purpose flour\n",
      "- 1 teaspoon baking soda\n",
      "- 1/2 teaspoon salt\n",
      "- 2 cups semisweet chocolate chips\n",
      "\n",
      "Instructions:\n",
      "1. Preheat the oven to 375°F (190°C). Line a baking sheet with parchment paper.\n",
      "2. In a large mixing bowl, cream together the butter, granulated sugar, and brown sugar until light and fluffy.\n",
      "3. Beat in the eggs one at a time, then stir in the vanilla extract.\n",
      "4. In a separate bowl, whisk together the flour, baking soda, and salt. Gradually add the dry ingredients to the wet ingredients, mixing until well combined.\n",
      "5. Stir in the chocolate chips.\n",
      "6. Drop spoonfuls of dough onto the prepared baking sheet, leaving some space between each cookie.\n",
      "7. Bake for 8-10 minutes, or until the edges are golden brown.\n",
      "8. Allow the cookies to cool on the baking sheet for a few minutes before transferring them to a wire rack to cool completely.\n",
      "\n",
      "Enjoy your delicious homemade chocolate chip cookies!\n"
     ]
    }
   ],
   "source": [
    "print(response.content)"
   ]
  },
  {
   "cell_type": "markdown",
   "id": "3259835b-87b9-47cd-8976-a4d72bf89070",
   "metadata": {},
   "source": [
    "### (2) Define Templates"
   ]
  },
  {
   "cell_type": "code",
   "execution_count": 7,
   "id": "be563169-e953-460f-907d-c0fce4e10ee2",
   "metadata": {},
   "outputs": [
    {
     "name": "stdout",
     "output_type": "stream",
     "text": [
      "text='Share your favorite recipe for buttah mochi.'\n"
     ]
    }
   ],
   "source": [
    "from langchain_core.prompts import PromptTemplate\n",
    "\n",
    "prompt = PromptTemplate.from_template(\"Share your favorite recipe for {product}.\")\n",
    "\n",
    "print(prompt.invoke({\"product\": \"buttah mochi\"}))"
   ]
  },
  {
   "cell_type": "markdown",
   "id": "e5d938df-489a-44fb-8b2a-bf263811ab4f",
   "metadata": {},
   "source": [
    "## (3) Define Pipelines"
   ]
  },
  {
   "cell_type": "code",
   "execution_count": 8,
   "id": "bbeb3b15-58e8-4fb9-8c4e-8516436f93be",
   "metadata": {},
   "outputs": [],
   "source": [
    "chain = prompt | llm"
   ]
  },
  {
   "cell_type": "markdown",
   "id": "491e7aa6-bddb-4595-9468-c14fa5ecf9b2",
   "metadata": {},
   "source": [
    "## (4) Invoke Pipelines"
   ]
  },
  {
   "cell_type": "code",
   "execution_count": 9,
   "id": "17df6e45-fed6-48d5-93fc-8971dfe913b3",
   "metadata": {},
   "outputs": [
    {
     "name": "stdout",
     "output_type": "stream",
     "text": [
      "response=AIMessage(content='Here is a recipe for buttah mochi:\\n\\nIngredients:\\n- 1 cup mochiko (sweet rice flour)\\n- 1 cup sugar\\n- 1/2 cup butter, melted\\n- 1 can (13.5 oz) coconut milk\\n- 1 can (12 oz) evaporated milk\\n- 3 eggs\\n- 1 teaspoon vanilla extract\\n\\nInstructions:\\n1. Preheat your oven to 350°F (175°C) and grease a 9x13 inch baking dish.\\n2. In a large mixing bowl, combine the mochiko and sugar.\\n3. In a separate bowl, whisk together the melted butter, coconut milk, evaporated milk, eggs, and vanilla extract.\\n4. Gradually pour the wet ingredients into the dry ingredients, stirring until well combined.\\n5. Pour the mixture into the prepared baking dish and smooth out the top with a spatula.\\n6. Bake for 1 hour, or until the top is golden brown and a toothpick inserted into the center comes out clean.\\n7. Allow the buttah mochi to cool before slicing into squares and serving.\\n\\nEnjoy your delicious buttah mochi!', response_metadata={'token_usage': {'completion_tokens': 236, 'prompt_tokens': 17, 'total_tokens': 253}, 'model_name': 'gpt-3.5-turbo-0125', 'system_fingerprint': None, 'finish_reason': 'stop', 'logprobs': None}, id='run-a755da87-d7b4-4811-a1d1-7750380104d4-0', usage_metadata={'input_tokens': 17, 'output_tokens': 236, 'total_tokens': 253})\n"
     ]
    }
   ],
   "source": [
    "response = chain.invoke({\"product\": \"buttah mochi\"})\n",
    "\n",
    "print(f\"{response=}\")"
   ]
  },
  {
   "cell_type": "code",
   "execution_count": 10,
   "id": "dee66e1d-986b-474a-ab0b-14d60fe7becd",
   "metadata": {},
   "outputs": [
    {
     "name": "stdout",
     "output_type": "stream",
     "text": [
      "Here is a recipe for buttah mochi:\n",
      "\n",
      "Ingredients:\n",
      "- 1 cup mochiko (sweet rice flour)\n",
      "- 1 cup sugar\n",
      "- 1/2 cup butter, melted\n",
      "- 1 can (13.5 oz) coconut milk\n",
      "- 1 can (12 oz) evaporated milk\n",
      "- 3 eggs\n",
      "- 1 teaspoon vanilla extract\n",
      "\n",
      "Instructions:\n",
      "1. Preheat your oven to 350°F (175°C) and grease a 9x13 inch baking dish.\n",
      "2. In a large mixing bowl, combine the mochiko and sugar.\n",
      "3. In a separate bowl, whisk together the melted butter, coconut milk, evaporated milk, eggs, and vanilla extract.\n",
      "4. Gradually pour the wet ingredients into the dry ingredients, stirring until well combined.\n",
      "5. Pour the mixture into the prepared baking dish and smooth out the top with a spatula.\n",
      "6. Bake for 1 hour, or until the top is golden brown and a toothpick inserted into the center comes out clean.\n",
      "7. Allow the buttah mochi to cool before slicing into squares and serving.\n",
      "\n",
      "Enjoy your delicious buttah mochi!\n"
     ]
    }
   ],
   "source": [
    "print(response.content)"
   ]
  },
  {
   "cell_type": "code",
   "execution_count": null,
   "id": "40ef1593-44c7-424d-97be-ec75a44d3504",
   "metadata": {},
   "outputs": [],
   "source": []
  }
 ],
 "metadata": {
  "kernelspec": {
   "display_name": "Python 3 (ipykernel)",
   "language": "python",
   "name": "python3"
  },
  "language_info": {
   "codemirror_mode": {
    "name": "ipython",
    "version": 3
   },
   "file_extension": ".py",
   "mimetype": "text/x-python",
   "name": "python",
   "nbconvert_exporter": "python",
   "pygments_lexer": "ipython3",
   "version": "3.11.8"
  }
 },
 "nbformat": 4,
 "nbformat_minor": 5
}
